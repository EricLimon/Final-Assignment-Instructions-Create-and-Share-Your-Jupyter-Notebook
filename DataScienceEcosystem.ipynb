{
 "cells": [
  {
   "cell_type": "markdown",
   "id": "07b17825-ff01-48cc-abaf-33136efb3ec3",
   "metadata": {},
   "source": [
    "# Data Science Tools and Ecosystem"
   ]
  },
  {
   "cell_type": "markdown",
   "id": "63ec0f6f-31c8-4b6d-8b36-380634dfe41b",
   "metadata": {},
   "source": [
    "In this notebook, Data Science Tools and Ecosystems are summarized"
   ]
  },
  {
   "cell_type": "markdown",
   "id": "5993528a-f028-4c66-ba67-b76dacfd3b47",
   "metadata": {},
   "source": [
    "**Objectives**\n",
    "* List popular languages for Data Science\n",
    "* Identify commonly used libraries in Data Science\n",
    "* Describe popular open source Data Science tools\n",
    "* Create markdown cells to format text and lists\n",
    "* Create tables in markdown cells"
   ]
  },
  {
   "cell_type": "markdown",
   "id": "286781be-b18f-4e0f-a4a0-b9d71e608dc5",
   "metadata": {},
   "source": [
    "some of the popular languages that Data scientist use are:\n",
    "1. python\n",
    "2. R\n",
    "3. SQL\n",
    "4. Julia"
   ]
  },
  {
   "cell_type": "markdown",
   "id": "1b460c2d-9f4d-454d-ba17-15a2e44db1d9",
   "metadata": {},
   "source": [
    "Some of the commonly used libraries used by Data Scientists include:\n",
    "1. Pandas\n",
    "2. NumPy\n",
    "3. Scikit-learn\n",
    "4. Matplotlib"
   ]
  },
  {
   "cell_type": "markdown",
   "id": "862e0e3f-4d02-42d9-9650-232d341260ef",
   "metadata": {},
   "source": [
    "|Data Science Tools|\n",
    "|------------------|\n",
    "|Jupyter notebooks|\n",
    "|Rstudio|\n",
    "|VS code|"
   ]
  },
  {
   "cell_type": "markdown",
   "id": "a72bfb05-34d5-4db7-97d9-8def2273e7e8",
   "metadata": {},
   "source": [
    "### Below are a few examples of evaluating arithmetic expressions in Python\n"
   ]
  },
  {
   "cell_type": "code",
   "execution_count": 7,
   "id": "74c26ee2-7ab8-4621-8730-12c9f09f028c",
   "metadata": {},
   "outputs": [
    {
     "data": {
      "text/plain": [
       "17"
      ]
     },
     "execution_count": 7,
     "metadata": {},
     "output_type": "execute_result"
    }
   ],
   "source": [
    "#this is a simple arithmetic expression to multiply then add integers\n",
    "(3*4)+5"
   ]
  },
  {
   "cell_type": "code",
   "execution_count": 17,
   "id": "0d76da63-09e9-4977-b1a5-1b2bb4f0d0a7",
   "metadata": {},
   "outputs": [
    {
     "data": {
      "text/plain": [
       "3.3333333333333335"
      ]
     },
     "execution_count": 17,
     "metadata": {},
     "output_type": "execute_result"
    }
   ],
   "source": [
    "# This will convert 200 minutes to hours by diving by 60\n",
    "200/60"
   ]
  },
  {
   "cell_type": "markdown",
   "id": "98ceb3cd-5d83-437e-8436-84252b4b3bfc",
   "metadata": {},
   "source": [
    "## Author\n",
    "Eric Limon-Alvarez"
   ]
  }
 ],
 "metadata": {
  "kernelspec": {
   "display_name": "Python [conda env:base] *",
   "language": "python",
   "name": "conda-base-py"
  },
  "language_info": {
   "codemirror_mode": {
    "name": "ipython",
    "version": 3
   },
   "file_extension": ".py",
   "mimetype": "text/x-python",
   "name": "python",
   "nbconvert_exporter": "python",
   "pygments_lexer": "ipython3",
   "version": "3.12.7"
  }
 },
 "nbformat": 4,
 "nbformat_minor": 5
}
